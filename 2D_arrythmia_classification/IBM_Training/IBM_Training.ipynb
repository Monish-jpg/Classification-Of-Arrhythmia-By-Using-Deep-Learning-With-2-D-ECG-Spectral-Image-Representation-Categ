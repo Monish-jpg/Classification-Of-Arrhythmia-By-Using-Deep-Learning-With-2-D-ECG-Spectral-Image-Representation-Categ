{
 "cells": [
  {
   "cell_type": "code",
   "execution_count": 1,
   "id": "a647e3a8",
   "metadata": {},
   "outputs": [
    {
     "name": "stdout",
     "output_type": "stream",
     "text": [
      "Collecting watson-machine-learning-client\n",
      "  Downloading watson_machine_learning_client-1.0.391-py3-none-any.whl (538 kB)\n",
      "     ------------------------------------ 538.9/538.9 kB 736.3 kB/s eta 0:00:00\n",
      "Collecting tabulate\n",
      "  Downloading tabulate-0.9.0-py3-none-any.whl (35 kB)\n",
      "Collecting boto3\n",
      "  Downloading boto3-1.26.6-py3-none-any.whl (132 kB)\n",
      "     -------------------------------------- 132.5/132.5 kB 1.1 MB/s eta 0:00:00\n",
      "Collecting lomond\n",
      "  Downloading lomond-0.3.3-py2.py3-none-any.whl (35 kB)\n",
      "Requirement already satisfied: urllib3 in c:\\users\\monish\\appdata\\local\\programs\\python\\python310\\lib\\site-packages (from watson-machine-learning-client) (1.26.12)\n",
      "Requirement already satisfied: certifi in c:\\users\\monish\\appdata\\local\\programs\\python\\python310\\lib\\site-packages (from watson-machine-learning-client) (2022.9.24)\n",
      "Collecting ibm-cos-sdk\n",
      "  Downloading ibm-cos-sdk-2.12.0.tar.gz (55 kB)\n",
      "     ---------------------------------------- 55.6/55.6 kB 1.5 MB/s eta 0:00:00\n",
      "  Preparing metadata (setup.py): started\n",
      "  Preparing metadata (setup.py): finished with status 'done'\n",
      "Requirement already satisfied: pandas in c:\\users\\monish\\appdata\\local\\programs\\python\\python310\\lib\\site-packages (from watson-machine-learning-client) (1.5.0)\n",
      "Collecting tqdm\n",
      "  Downloading tqdm-4.64.1-py2.py3-none-any.whl (78 kB)\n",
      "     ---------------------------------------- 78.5/78.5 kB 2.2 MB/s eta 0:00:00\n",
      "Requirement already satisfied: requests in c:\\users\\monish\\appdata\\local\\programs\\python\\python310\\lib\\site-packages (from watson-machine-learning-client) (2.28.1)\n",
      "Collecting jmespath<2.0.0,>=0.7.1\n",
      "  Downloading jmespath-1.0.1-py3-none-any.whl (20 kB)\n",
      "Collecting botocore<1.30.0,>=1.29.6\n",
      "  Downloading botocore-1.29.6-py3-none-any.whl (9.9 MB)\n",
      "     ---------------------------------------- 9.9/9.9 MB 1.2 MB/s eta 0:00:00\n",
      "Collecting s3transfer<0.7.0,>=0.6.0\n",
      "  Downloading s3transfer-0.6.0-py3-none-any.whl (79 kB)\n",
      "     -------------------------------------- 79.6/79.6 kB 636.0 kB/s eta 0:00:00\n",
      "Collecting ibm-cos-sdk-core==2.12.0\n",
      "  Downloading ibm-cos-sdk-core-2.12.0.tar.gz (956 kB)\n",
      "     ------------------------------------ 956.8/956.8 kB 918.1 kB/s eta 0:00:00\n",
      "  Preparing metadata (setup.py): started\n",
      "  Preparing metadata (setup.py): finished with status 'done'\n",
      "Collecting ibm-cos-sdk-s3transfer==2.12.0\n",
      "  Downloading ibm-cos-sdk-s3transfer-2.12.0.tar.gz (135 kB)\n",
      "     -------------------------------------- 135.7/135.7 kB 1.1 MB/s eta 0:00:00\n",
      "  Preparing metadata (setup.py): started\n",
      "  Preparing metadata (setup.py): finished with status 'done'\n",
      "Collecting jmespath<2.0.0,>=0.7.1\n",
      "  Downloading jmespath-0.10.0-py2.py3-none-any.whl (24 kB)\n",
      "Requirement already satisfied: python-dateutil<3.0.0,>=2.8.2 in c:\\users\\monish\\appdata\\local\\programs\\python\\python310\\lib\\site-packages (from ibm-cos-sdk-core==2.12.0->ibm-cos-sdk->watson-machine-learning-client) (2.8.2)\n",
      "Requirement already satisfied: idna<4,>=2.5 in c:\\users\\monish\\appdata\\local\\programs\\python\\python310\\lib\\site-packages (from requests->watson-machine-learning-client) (3.4)\n",
      "Requirement already satisfied: charset-normalizer<3,>=2 in c:\\users\\monish\\appdata\\local\\programs\\python\\python310\\lib\\site-packages (from requests->watson-machine-learning-client) (2.1.1)\n",
      "Requirement already satisfied: six>=1.10.0 in c:\\users\\monish\\appdata\\local\\programs\\python\\python310\\lib\\site-packages (from lomond->watson-machine-learning-client) (1.16.0)\n",
      "Requirement already satisfied: numpy>=1.21.0 in c:\\users\\monish\\appdata\\local\\programs\\python\\python310\\lib\\site-packages (from pandas->watson-machine-learning-client) (1.23.3)\n",
      "Requirement already satisfied: pytz>=2020.1 in c:\\users\\monish\\appdata\\local\\programs\\python\\python310\\lib\\site-packages (from pandas->watson-machine-learning-client) (2022.4)\n",
      "Requirement already satisfied: colorama in c:\\users\\monish\\appdata\\roaming\\python\\python310\\site-packages (from tqdm->watson-machine-learning-client) (0.4.6)\n",
      "Building wheels for collected packages: ibm-cos-sdk, ibm-cos-sdk-core, ibm-cos-sdk-s3transfer\n",
      "  Building wheel for ibm-cos-sdk (setup.py): started\n",
      "  Building wheel for ibm-cos-sdk (setup.py): finished with status 'done'\n",
      "  Created wheel for ibm-cos-sdk: filename=ibm_cos_sdk-2.12.0-py3-none-any.whl size=73910 sha256=5411875f9ba312f9f4c42c2c86f8dd5953ce8463088d6e2a02f499b3666ee1fc\n",
      "  Stored in directory: c:\\users\\monish\\appdata\\local\\pip\\cache\\wheels\\53\\89\\f8\\e1f16b3874af57e2253ee18a43804db6879c3aa22c58d91b82\n",
      "  Building wheel for ibm-cos-sdk-core (setup.py): started\n",
      "  Building wheel for ibm-cos-sdk-core (setup.py): finished with status 'done'\n",
      "  Created wheel for ibm-cos-sdk-core: filename=ibm_cos_sdk_core-2.12.0-py3-none-any.whl size=562947 sha256=2b567c0266c7a3f23312acc8e455dde679c4285d755de7b9e1de03d1a05f9538\n",
      "  Stored in directory: c:\\users\\monish\\appdata\\local\\pip\\cache\\wheels\\72\\24\\c4\\b930b91571fe120c206726f2055a26c95ae9fa323763d42b63\n",
      "  Building wheel for ibm-cos-sdk-s3transfer (setup.py): started\n",
      "  Building wheel for ibm-cos-sdk-s3transfer (setup.py): finished with status 'done'\n",
      "  Created wheel for ibm-cos-sdk-s3transfer: filename=ibm_cos_sdk_s3transfer-2.12.0-py3-none-any.whl size=89765 sha256=477981f9a904d03bb916f1578f7299f7ae72024908f9aeb424f6f41cb00f01a5\n",
      "  Stored in directory: c:\\users\\monish\\appdata\\local\\pip\\cache\\wheels\\3f\\bf\\b6\\4c18868ed27b686342eab42be15f0c0ac136d2dd9fb86b6aa8\n",
      "Successfully built ibm-cos-sdk ibm-cos-sdk-core ibm-cos-sdk-s3transfer\n",
      "Installing collected packages: tqdm, tabulate, lomond, jmespath, ibm-cos-sdk-core, botocore, s3transfer, ibm-cos-sdk-s3transfer, ibm-cos-sdk, boto3, watson-machine-learning-client\n",
      "Successfully installed boto3-1.26.6 botocore-1.29.6 ibm-cos-sdk-2.12.0 ibm-cos-sdk-core-2.12.0 ibm-cos-sdk-s3transfer-2.12.0 jmespath-0.10.0 lomond-0.3.3 s3transfer-0.6.0 tabulate-0.9.0 tqdm-4.64.1 watson-machine-learning-client-1.0.391\n"
     ]
    },
    {
     "name": "stderr",
     "output_type": "stream",
     "text": [
      "\n",
      "[notice] A new release of pip available: 22.3 -> 22.3.1\n",
      "[notice] To update, run: python.exe -m pip install --upgrade pip\n"
     ]
    }
   ],
   "source": [
    "!pip install watson-machine-learning-client --upgrade"
   ]
  },
  {
   "cell_type": "code",
   "execution_count": 5,
   "id": "7060e210",
   "metadata": {},
   "outputs": [
    {
     "name": "stdout",
     "output_type": "stream",
     "text": [
      "Collecting ibm_watson_machine_learning\n",
      "  Using cached ibm_watson_machine_learning-1.0.257-py3-none-any.whl (1.8 MB)\n",
      "Requirement already satisfied: packaging in c:\\users\\monish\\appdata\\local\\programs\\python\\python310\\lib\\site-packages (from ibm_watson_machine_learning) (21.3)\n",
      "Collecting importlib-metadata\n",
      "  Using cached importlib_metadata-5.0.0-py3-none-any.whl (21 kB)\n",
      "Requirement already satisfied: urllib3 in c:\\users\\monish\\appdata\\local\\programs\\python\\python310\\lib\\site-packages (from ibm_watson_machine_learning) (1.26.12)\n",
      "Requirement already satisfied: lomond in c:\\users\\monish\\appdata\\local\\programs\\python\\python310\\lib\\site-packages (from ibm_watson_machine_learning) (0.3.3)\n",
      "Requirement already satisfied: certifi in c:\\users\\monish\\appdata\\local\\programs\\python\\python310\\lib\\site-packages (from ibm_watson_machine_learning) (2022.9.24)\n",
      "Requirement already satisfied: pandas<1.5.0,>=0.24.2 in c:\\users\\monish\\appdata\\local\\programs\\python\\python310\\lib\\site-packages (from ibm_watson_machine_learning) (1.4.4)\n",
      "Requirement already satisfied: ibm-cos-sdk==2.12.* in c:\\users\\monish\\appdata\\local\\programs\\python\\python310\\lib\\site-packages (from ibm_watson_machine_learning) (2.12.0)\n",
      "Requirement already satisfied: requests in c:\\users\\monish\\appdata\\local\\programs\\python\\python310\\lib\\site-packages (from ibm_watson_machine_learning) (2.28.1)\n",
      "Requirement already satisfied: tabulate in c:\\users\\monish\\appdata\\local\\programs\\python\\python310\\lib\\site-packages (from ibm_watson_machine_learning) (0.9.0)\n",
      "Requirement already satisfied: ibm-cos-sdk-core==2.12.0 in c:\\users\\monish\\appdata\\local\\programs\\python\\python310\\lib\\site-packages (from ibm-cos-sdk==2.12.*->ibm_watson_machine_learning) (2.12.0)\n",
      "Requirement already satisfied: ibm-cos-sdk-s3transfer==2.12.0 in c:\\users\\monish\\appdata\\local\\programs\\python\\python310\\lib\\site-packages (from ibm-cos-sdk==2.12.*->ibm_watson_machine_learning) (2.12.0)\n",
      "Requirement already satisfied: jmespath<1.0.0,>=0.10.0 in c:\\users\\monish\\appdata\\local\\programs\\python\\python310\\lib\\site-packages (from ibm-cos-sdk==2.12.*->ibm_watson_machine_learning) (0.10.0)\n",
      "Requirement already satisfied: python-dateutil<3.0.0,>=2.8.2 in c:\\users\\monish\\appdata\\local\\programs\\python\\python310\\lib\\site-packages (from ibm-cos-sdk-core==2.12.0->ibm-cos-sdk==2.12.*->ibm_watson_machine_learning) (2.8.2)\n",
      "Requirement already satisfied: pytz>=2020.1 in c:\\users\\monish\\appdata\\local\\programs\\python\\python310\\lib\\site-packages (from pandas<1.5.0,>=0.24.2->ibm_watson_machine_learning) (2022.4)\n",
      "Requirement already satisfied: numpy>=1.21.0 in c:\\users\\monish\\appdata\\local\\programs\\python\\python310\\lib\\site-packages (from pandas<1.5.0,>=0.24.2->ibm_watson_machine_learning) (1.23.3)\n",
      "Requirement already satisfied: charset-normalizer<3,>=2 in c:\\users\\monish\\appdata\\local\\programs\\python\\python310\\lib\\site-packages (from requests->ibm_watson_machine_learning) (2.1.1)\n",
      "Requirement already satisfied: idna<4,>=2.5 in c:\\users\\monish\\appdata\\local\\programs\\python\\python310\\lib\\site-packages (from requests->ibm_watson_machine_learning) (3.4)\n",
      "Requirement already satisfied: zipp>=0.5 in c:\\users\\monish\\appdata\\local\\programs\\python\\python310\\lib\\site-packages (from importlib-metadata->ibm_watson_machine_learning) (3.10.0)\n",
      "Requirement already satisfied: six>=1.10.0 in c:\\users\\monish\\appdata\\local\\programs\\python\\python310\\lib\\site-packages (from lomond->ibm_watson_machine_learning) (1.16.0)\n",
      "Requirement already satisfied: pyparsing!=3.0.5,>=2.0.2 in c:\\users\\monish\\appdata\\local\\programs\\python\\python310\\lib\\site-packages (from packaging->ibm_watson_machine_learning) (3.0.9)\n",
      "Installing collected packages: importlib-metadata, ibm_watson_machine_learning\n",
      "Successfully installed ibm_watson_machine_learning-1.0.257 importlib-metadata-5.0.0\n"
     ]
    },
    {
     "name": "stderr",
     "output_type": "stream",
     "text": [
      "\n",
      "[notice] A new release of pip available: 22.3 -> 22.3.1\n",
      "[notice] To update, run: python.exe -m pip install --upgrade pip\n"
     ]
    }
   ],
   "source": [
    "!pip install ibm_watson_machine_learning"
   ]
  },
  {
   "cell_type": "code",
   "execution_count": 6,
   "id": "492b6b95",
   "metadata": {},
   "outputs": [],
   "source": [
    "from ibm_watson_machine_learning import APIClient\n",
    "wml_credentials={\n",
    "    \"url\":\"https://us-south.ml.cloud.ibm.com\",\n",
    "    \"apikey\":\"VFECcIuGn6VBQtE-m_AjCrHtiyr7oMqmlk9Cc9xXG0_u\"\n",
    "}\n",
    "client=APIClient(wml_credentials)"
   ]
  },
  {
   "cell_type": "code",
   "execution_count": 7,
   "id": "d590c0de",
   "metadata": {},
   "outputs": [],
   "source": [
    "def guid_from_space_name(client,space_name):\n",
    "    space=client.spaces.get_details()\n",
    "    #print(space)\n",
    "    return(next(item for item in space ['resources']if item['entity'][\"name\"]==space_name)['metadata']['id'])"
   ]
  },
  {
   "cell_type": "code",
   "execution_count": 8,
   "id": "082e791a",
   "metadata": {},
   "outputs": [
    {
     "name": "stdout",
     "output_type": "stream",
     "text": [
      "Space UID =9c0d2961-8749-422a-91cc-7024e8706d70\n"
     ]
    }
   ],
   "source": [
    "space_uid=guid_from_space_name(client,'arrythmia-prediction')\n",
    "print(\"Space UID =\"+space_uid)"
   ]
  },
  {
   "cell_type": "code",
   "execution_count": 9,
   "id": "a116157c",
   "metadata": {},
   "outputs": [
    {
     "data": {
      "text/plain": [
       "'SUCCESS'"
      ]
     },
     "execution_count": 9,
     "metadata": {},
     "output_type": "execute_result"
    }
   ],
   "source": [
    "client.set.default_space(space_uid)"
   ]
  },
  {
   "cell_type": "code",
   "execution_count": 10,
   "id": "a852ceb2",
   "metadata": {},
   "outputs": [
    {
     "name": "stdout",
     "output_type": "stream",
     "text": [
      "Successfully saved model content to file: 'my_model.tar.gb'\n"
     ]
    },
    {
     "data": {
      "text/plain": [
       "'c:\\\\Users\\\\MONISH\\\\Downloads\\\\SI-GuidedProject-78335-1656736746-main\\\\miniii project\\\\IBM_training/my_model.tar.gb'"
      ]
     },
     "execution_count": 10,
     "metadata": {},
     "output_type": "execute_result"
    }
   ],
   "source": [
    "client.repository.download(\"9b2bf570-e6ab-4257-8662-215c5655becd\",'my_model.tar.gz')"
   ]
  },
  {
   "cell_type": "code",
   "execution_count": null,
   "id": "302ae06c",
   "metadata": {},
   "outputs": [],
   "source": []
  }
 ],
 "metadata": {
  "kernelspec": {
   "display_name": "Python 3.10.7 64-bit",
   "language": "python",
   "name": "python3"
  },
  "language_info": {
   "codemirror_mode": {
    "name": "ipython",
    "version": 3
   },
   "file_extension": ".py",
   "mimetype": "text/x-python",
   "name": "python",
   "nbconvert_exporter": "python",
   "pygments_lexer": "ipython3",
   "version": "3.10.7"
  },
  "vscode": {
   "interpreter": {
    "hash": "b33a71597ed389fdca2ed14539482dc625d4dba4a55c129944fe34f2e16f73d5"
   }
  }
 },
 "nbformat": 4,
 "nbformat_minor": 5
}
